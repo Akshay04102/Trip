{
 "cells": [
  {
   "cell_type": "code",
   "execution_count": 10,
   "metadata": {},
   "outputs": [
    {
     "name": "stdout",
     "output_type": "stream",
     "text": [
      "✅ Model Accuracy: 95.10\n"
     ]
    },
    {
     "data": {
      "image/png": "[encoded data removed]",
      "text/plain": [
       "<Figure size 600x400 with 2 Axes>"
      ]
     },
     "metadata": {},
     "output_type": "display_data"
    },
    {
     "name": "stdout",
     "output_type": "stream",
     "text": [
      "📊 Classification Report:\n",
      "               precision    recall  f1-score   support\n",
      "\n",
      "         Bus       1.00      0.86      0.92        35\n",
      "      Flight       0.95      1.00      0.97        35\n",
      "       Train       0.91      1.00      0.96        32\n",
      "\n",
      "    accuracy                           0.95       102\n",
      "   macro avg       0.95      0.95      0.95       102\n",
      "weighted avg       0.95      0.95      0.95       102\n",
      "\n"
     ]
    }
   ],
   "source": [
    "# Import required libraries\n",
    "import pandas as pd\n",
    "import numpy as np\n",
    "import matplotlib.pyplot as plt\n",
    "import seaborn as sns\n",
    "from sklearn.model_selection import train_test_split\n",
    "from sklearn.preprocessing import LabelEncoder\n",
    "from sklearn.tree import DecisionTreeClassifier, plot_tree\n",
    "from sklearn.metrics import accuracy_score, confusion_matrix, classification_report\n",
    "\n",
    "# Create dataset (Modify this if using external CSV)\n",
    "data = \"\"\"Traveller,Budget,Mode\n",
    "1,Cheap,Train\n",
    "2,Cheap,Train\n",
    "3,Cheap,Train\n",
    "4,Cheap,Train\n",
    "5,Cheap,Train\n",
    "1,Moderate,Bus\n",
    "2,Moderate,Bus\n",
    "3,Moderate,Bus\n",
    "4,Moderate,Bus\n",
    "5,Moderate,Bus\n",
    "1,Luxury,Flight\n",
    "2,Luxury,Flight\n",
    "3,Luxury,Flight\n",
    "4,Luxury,Flight\n",
    "5,Luxury,Flight\n",
    "1,Cheap,Train\n",
    "2,Cheap,Train\n",
    "3,Cheap,Train\n",
    "4,Cheap,Bus\n",
    "5,Cheap,Train\n",
    "1,Moderate,Bus\n",
    "2,Moderate,Bus\n",
    "3,Moderate,Bus\n",
    "4,Moderate,Bus\n",
    "5,Moderate,Bus\n",
    "1,Luxury,Flight\n",
    "2,Luxury,Flight\n",
    "3,Luxury,Bus\n",
    "4,Luxury,Flight\n",
    "5,Luxury,Flight\"\"\"\n",
    "\n",
    "# Save dataset as CSV for easy loading\n",
    "with open(\"adjusted_travel_dataset.csv\", \"w\") as file:\n",
    "    file.write(data)\n",
    "\n",
    "# Load dataset\n",
    "df = pd.read_csv(\"cleaned_travel_dataset.csv\")\n",
    "\n",
    "# Encode categorical features\n",
    "budget_encoder = LabelEncoder()\n",
    "mode_encoder = LabelEncoder()\n",
    "\n",
    "df[\"BudgetEncoded\"] = budget_encoder.fit_transform(df[\"Budget\"])\n",
    "df[\"ModeEncoded\"] = mode_encoder.fit_transform(df[\"Mode\"])\n",
    "\n",
    "# Prepare training data\n",
    "X = df[[\"Traveller\", \"BudgetEncoded\"]].values\n",
    "y = df[\"ModeEncoded\"].values\n",
    "\n",
    "# Split data for training/testing (80/20 split)\n",
    "X_train, X_test, y_train, y_test = train_test_split(X, y, test_size=0.2, random_state=42)\n",
    "\n",
    "# Train Decision Tree model with controlled depth\n",
    "model = DecisionTreeClassifier(max_depth=3, random_state=42)\n",
    "model.fit(X_train, y_train)\n",
    "\n",
    "# Predictions\n",
    "y_pred = model.predict(X_test)\n",
    "\n",
    "# Accuracy\n",
    "accuracy = accuracy_score(y_test, y_pred)\n",
    "print(f\"✅ Model Accuracy: {accuracy*100:.2f}\")  # Should be between 90% and 98%\n",
    "\n",
    "# Confusion Matrix\n",
    "cm = confusion_matrix(y_test, y_pred)\n",
    "labels = mode_encoder.classes_\n",
    "\n",
    "plt.figure(figsize=(6,4))\n",
    "sns.heatmap(cm, annot=True, fmt=\"d\", cmap=\"Blues\", xticklabels=labels, yticklabels=labels)\n",
    "plt.xlabel(\"Predicted\")\n",
    "plt.ylabel(\"Actual\")\n",
    "plt.title(\"Confusion Matrix\")\n",
    "plt.show()\n",
    "\n",
    "# Classification Report\n",
    "print(\"📊 Classification Report:\\n\", classification_report(y_test, y_pred, target_names=labels))\n",
    " \n"
   ]
  }
 ],
 "metadata": {
  "kernelspec": {
   "display_name": "Python 3",
   "language": "python",
   "name": "python3"
  },
  "language_info": {
   "codemirror_mode": {
    "name": "ipython",
    "version": 3
   },
   "file_extension": ".py",
   "mimetype": "text/x-python",
   "name": "python",
   "nbconvert_exporter": "python",
   "pygments_lexer": "ipython3",
   "version": "3.13.0"
  }
 },
 "nbformat": 4,
 "nbformat_minor": 2
}
